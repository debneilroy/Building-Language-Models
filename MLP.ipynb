{
 "cells": [
  {
   "cell_type": "markdown",
   "metadata": {},
   "source": [
    "## MLP model taken from https://www.jmlr.org/papers/volume3/bengio03a/bengio03a.pdf"
   ]
  },
  {
   "cell_type": "markdown",
   "metadata": {},
   "source": [
    "## PyTorch internals reference http://blog.ezyang.com/2019/05/pytorch-internals/"
   ]
  },
  {
   "cell_type": "code",
   "execution_count": 1,
   "metadata": {},
   "outputs": [],
   "source": [
    "import random\n",
    "import torch\n",
    "import torch.nn.functional as F\n",
    "import matplotlib.pyplot as plt\n",
    "%matplotlib inline"
   ]
  },
  {
   "cell_type": "code",
   "execution_count": 2,
   "metadata": {},
   "outputs": [
    {
     "name": "stdout",
     "output_type": "stream",
     "text": [
      "['emma', 'olivia', 'ava', 'isabella', 'sophia', 'charlotte', 'mia', 'amelia', 'harper', 'evelyn']\n"
     ]
    }
   ],
   "source": [
    "# read all words\n",
    "\n",
    "words = open('names.txt', 'r').read().splitlines()\n",
    "print(words[:10])"
   ]
  },
  {
   "cell_type": "code",
   "execution_count": 3,
   "metadata": {},
   "outputs": [
    {
     "name": "stdout",
     "output_type": "stream",
     "text": [
      "32033\n"
     ]
    }
   ],
   "source": [
    "print(len(words))"
   ]
  },
  {
   "cell_type": "code",
   "execution_count": 4,
   "metadata": {},
   "outputs": [
    {
     "name": "stdout",
     "output_type": "stream",
     "text": [
      "['a', 'b', 'c', 'd', 'e', 'f', 'g', 'h', 'i', 'j', 'k', 'l', 'm', 'n', 'o', 'p', 'q', 'r', 's', 't', 'u', 'v', 'w', 'x', 'y', 'z']\n",
      "{1: 'a', 2: 'b', 3: 'c', 4: 'd', 5: 'e', 6: 'f', 7: 'g', 8: 'h', 9: 'i', 10: 'j', 11: 'k', 12: 'l', 13: 'm', 14: 'n', 15: 'o', 16: 'p', 17: 'q', 18: 'r', 19: 's', 20: 't', 21: 'u', 22: 'v', 23: 'w', 24: 'x', 25: 'y', 26: 'z', 0: '.'}\n"
     ]
    }
   ],
   "source": [
    "# build the vocabulary of characters and mappings to/from integers\n",
    "\n",
    "chars = sorted(list(set(''.join(words))))\n",
    "print(chars)\n",
    "stoi = {s:i+1 for i,s in enumerate(chars)}\n",
    "stoi['.'] = 0\n",
    "itos = {i:s for s,i in stoi.items()}\n",
    "print(itos)"
   ]
  },
  {
   "cell_type": "code",
   "execution_count": 5,
   "metadata": {},
   "outputs": [
    {
     "name": "stdout",
     "output_type": "stream",
     "text": [
      "Word : emma\n",
      "Initial context : [0, 0, 0]\n",
      "Character :  e\n",
      "Index of character : 5\n",
      "X : [[0, 0, 0]]\n",
      "Y : [5]\n",
      "... ---> e\n",
      "New context : [0, 0, 5]\n",
      "----------------------------------------------------------------------------------------------------\n",
      "Character :  m\n",
      "Index of character : 13\n",
      "X : [[0, 0, 0], [0, 0, 5]]\n",
      "Y : [5, 13]\n",
      "..e ---> m\n",
      "New context : [0, 5, 13]\n",
      "----------------------------------------------------------------------------------------------------\n",
      "Character :  m\n",
      "Index of character : 13\n",
      "X : [[0, 0, 0], [0, 0, 5], [0, 5, 13]]\n",
      "Y : [5, 13, 13]\n",
      ".em ---> m\n",
      "New context : [5, 13, 13]\n",
      "----------------------------------------------------------------------------------------------------\n",
      "Character :  a\n",
      "Index of character : 1\n",
      "X : [[0, 0, 0], [0, 0, 5], [0, 5, 13], [5, 13, 13]]\n",
      "Y : [5, 13, 13, 1]\n",
      "emm ---> a\n",
      "New context : [13, 13, 1]\n",
      "----------------------------------------------------------------------------------------------------\n",
      "Character :  .\n",
      "Index of character : 0\n",
      "X : [[0, 0, 0], [0, 0, 5], [0, 5, 13], [5, 13, 13], [13, 13, 1]]\n",
      "Y : [5, 13, 13, 1, 0]\n",
      "mma ---> .\n",
      "New context : [13, 1, 0]\n",
      "----------------------------------------------------------------------------------------------------\n"
     ]
    }
   ],
   "source": [
    "# build the dataset (do it for the first word for easy visualization)\n",
    "\n",
    "block_size = 3 # context length: how many characters do we take to predict the next one?\n",
    "\n",
    "X, Y = [], [] # training and label sets\n",
    "\n",
    "for w in words[:1]:\n",
    "    print('Word :', w)\n",
    "    context = [0] * block_size\n",
    "    print('Initial context :', context)\n",
    "    for ch in (w + '.'):\n",
    "        print('Character : ', ch)\n",
    "        ix = stoi[ch]\n",
    "        print('Index of character :', ix)\n",
    "        X.append(context) \n",
    "        print('X :', X)\n",
    "        Y.append(ix)\n",
    "        print('Y :', Y)\n",
    "        print(''.join(itos[i] for i in context), '--->', itos[ix]) # previous three characters will be used to \n",
    "                                                                   # predict the next character, padding is \n",
    "                                                                   # done by '.'\n",
    "        context = context[1:] + [ix] # crop and append\n",
    "        print('New context :', context)\n",
    "        print('-'*100)\n",
    "\n",
    "X = torch.tensor(X)\n",
    "Y = torch.tensor(Y)"
   ]
  },
  {
   "cell_type": "code",
   "execution_count": 6,
   "metadata": {},
   "outputs": [
    {
     "data": {
      "text/plain": [
       "tensor([[ 0,  0,  0],\n",
       "        [ 0,  0,  5],\n",
       "        [ 0,  5, 13],\n",
       "        [ 5, 13, 13],\n",
       "        [13, 13,  1]])"
      ]
     },
     "execution_count": 6,
     "metadata": {},
     "output_type": "execute_result"
    }
   ],
   "source": [
    "X"
   ]
  },
  {
   "cell_type": "code",
   "execution_count": 7,
   "metadata": {},
   "outputs": [
    {
     "data": {
      "text/plain": [
       "tensor([ 5, 13, 13,  1,  0])"
      ]
     },
     "execution_count": 7,
     "metadata": {},
     "output_type": "execute_result"
    }
   ],
   "source": [
    "Y"
   ]
  },
  {
   "cell_type": "code",
   "execution_count": 8,
   "metadata": {},
   "outputs": [
    {
     "data": {
      "text/plain": [
       "(torch.Size([5, 3]), torch.Size([5]))"
      ]
     },
     "execution_count": 8,
     "metadata": {},
     "output_type": "execute_result"
    }
   ],
   "source": [
    "X.shape, Y.shape"
   ]
  },
  {
   "cell_type": "code",
   "execution_count": 9,
   "metadata": {},
   "outputs": [],
   "source": [
    "# build the dataset for the first five words\n",
    "\n",
    "block_size = 3 # context length: how many characters do we take to predict the next one?\n",
    "\n",
    "X, Y = [], [] # training and label sets\n",
    "\n",
    "for w in words[:5]:\n",
    "    context = [0] * block_size\n",
    "    for ch in (w + '.'):\n",
    "        ix = stoi[ch]\n",
    "        X.append(context)\n",
    "        Y.append(ix)\n",
    "        context = context[1:] + [ix] \n",
    "\n",
    "X = torch.tensor(X)\n",
    "Y = torch.tensor(Y)"
   ]
  },
  {
   "cell_type": "code",
   "execution_count": 10,
   "metadata": {},
   "outputs": [
    {
     "data": {
      "text/plain": [
       "(torch.Size([32, 3]), torch.Size([32]))"
      ]
     },
     "execution_count": 10,
     "metadata": {},
     "output_type": "execute_result"
    }
   ],
   "source": [
    "X.shape, Y.shape "
   ]
  },
  {
   "cell_type": "code",
   "execution_count": 11,
   "metadata": {},
   "outputs": [
    {
     "data": {
      "text/plain": [
       "tensor([0.7579, 0.2272])"
      ]
     },
     "execution_count": 11,
     "metadata": {},
     "output_type": "execute_result"
    }
   ],
   "source": [
    "# implement the embedding lookup table\n",
    "\n",
    "C = torch.randn((27, 2)) # 27 characters embedded in a 2 dimensional space\n",
    "C[5] # embed a single row of C"
   ]
  },
  {
   "cell_type": "code",
   "execution_count": 12,
   "metadata": {},
   "outputs": [
    {
     "data": {
      "text/plain": [
       "tensor([0.7579, 0.2272])"
      ]
     },
     "execution_count": 12,
     "metadata": {},
     "output_type": "execute_result"
    }
   ],
   "source": [
    "F.one_hot(torch.tensor(5), num_classes=27).float() @ C"
   ]
  },
  {
   "cell_type": "code",
   "execution_count": 13,
   "metadata": {},
   "outputs": [
    {
     "data": {
      "text/plain": [
       "tensor([[[-0.1026, -0.0626],\n",
       "         [-0.1026, -0.0626],\n",
       "         [-0.1026, -0.0626]],\n",
       "\n",
       "        [[-0.1026, -0.0626],\n",
       "         [-0.1026, -0.0626],\n",
       "         [ 0.7579,  0.2272]],\n",
       "\n",
       "        [[-0.1026, -0.0626],\n",
       "         [ 0.7579,  0.2272],\n",
       "         [-0.3854, -0.7914]],\n",
       "\n",
       "        [[ 0.7579,  0.2272],\n",
       "         [-0.3854, -0.7914],\n",
       "         [-0.3854, -0.7914]],\n",
       "\n",
       "        [[-0.3854, -0.7914],\n",
       "         [-0.3854, -0.7914],\n",
       "         [-0.2772,  0.2402]],\n",
       "\n",
       "        [[-0.1026, -0.0626],\n",
       "         [-0.1026, -0.0626],\n",
       "         [-0.1026, -0.0626]],\n",
       "\n",
       "        [[-0.1026, -0.0626],\n",
       "         [-0.1026, -0.0626],\n",
       "         [ 0.0956, -0.5777]],\n",
       "\n",
       "        [[-0.1026, -0.0626],\n",
       "         [ 0.0956, -0.5777],\n",
       "         [ 0.3417, -0.2248]],\n",
       "\n",
       "        [[ 0.0956, -0.5777],\n",
       "         [ 0.3417, -0.2248],\n",
       "         [ 1.0625,  0.6183]],\n",
       "\n",
       "        [[ 0.3417, -0.2248],\n",
       "         [ 1.0625,  0.6183],\n",
       "         [-0.2932, -0.9657]],\n",
       "\n",
       "        [[ 1.0625,  0.6183],\n",
       "         [-0.2932, -0.9657],\n",
       "         [ 1.0625,  0.6183]],\n",
       "\n",
       "        [[-0.2932, -0.9657],\n",
       "         [ 1.0625,  0.6183],\n",
       "         [-0.2772,  0.2402]],\n",
       "\n",
       "        [[-0.1026, -0.0626],\n",
       "         [-0.1026, -0.0626],\n",
       "         [-0.1026, -0.0626]],\n",
       "\n",
       "        [[-0.1026, -0.0626],\n",
       "         [-0.1026, -0.0626],\n",
       "         [-0.2772,  0.2402]],\n",
       "\n",
       "        [[-0.1026, -0.0626],\n",
       "         [-0.2772,  0.2402],\n",
       "         [-0.2932, -0.9657]],\n",
       "\n",
       "        [[-0.2772,  0.2402],\n",
       "         [-0.2932, -0.9657],\n",
       "         [-0.2772,  0.2402]],\n",
       "\n",
       "        [[-0.1026, -0.0626],\n",
       "         [-0.1026, -0.0626],\n",
       "         [-0.1026, -0.0626]],\n",
       "\n",
       "        [[-0.1026, -0.0626],\n",
       "         [-0.1026, -0.0626],\n",
       "         [ 1.0625,  0.6183]],\n",
       "\n",
       "        [[-0.1026, -0.0626],\n",
       "         [ 1.0625,  0.6183],\n",
       "         [ 0.5607,  1.6958]],\n",
       "\n",
       "        [[ 1.0625,  0.6183],\n",
       "         [ 0.5607,  1.6958],\n",
       "         [-0.2772,  0.2402]],\n",
       "\n",
       "        [[ 0.5607,  1.6958],\n",
       "         [-0.2772,  0.2402],\n",
       "         [-0.0158,  0.7443]],\n",
       "\n",
       "        [[-0.2772,  0.2402],\n",
       "         [-0.0158,  0.7443],\n",
       "         [ 0.7579,  0.2272]],\n",
       "\n",
       "        [[-0.0158,  0.7443],\n",
       "         [ 0.7579,  0.2272],\n",
       "         [ 0.3417, -0.2248]],\n",
       "\n",
       "        [[ 0.7579,  0.2272],\n",
       "         [ 0.3417, -0.2248],\n",
       "         [ 0.3417, -0.2248]],\n",
       "\n",
       "        [[ 0.3417, -0.2248],\n",
       "         [ 0.3417, -0.2248],\n",
       "         [-0.2772,  0.2402]],\n",
       "\n",
       "        [[-0.1026, -0.0626],\n",
       "         [-0.1026, -0.0626],\n",
       "         [-0.1026, -0.0626]],\n",
       "\n",
       "        [[-0.1026, -0.0626],\n",
       "         [-0.1026, -0.0626],\n",
       "         [ 0.5607,  1.6958]],\n",
       "\n",
       "        [[-0.1026, -0.0626],\n",
       "         [ 0.5607,  1.6958],\n",
       "         [ 0.0956, -0.5777]],\n",
       "\n",
       "        [[ 0.5607,  1.6958],\n",
       "         [ 0.0956, -0.5777],\n",
       "         [ 0.4485,  0.4060]],\n",
       "\n",
       "        [[ 0.0956, -0.5777],\n",
       "         [ 0.4485,  0.4060],\n",
       "         [-0.5634, -1.2035]],\n",
       "\n",
       "        [[ 0.4485,  0.4060],\n",
       "         [-0.5634, -1.2035],\n",
       "         [ 1.0625,  0.6183]],\n",
       "\n",
       "        [[-0.5634, -1.2035],\n",
       "         [ 1.0625,  0.6183],\n",
       "         [-0.2772,  0.2402]]])"
      ]
     },
     "execution_count": 13,
     "metadata": {},
     "output_type": "execute_result"
    }
   ],
   "source": [
    "# use the lookup table C to get embeddings for X\n",
    "\n",
    "emb = C[X]\n",
    "emb"
   ]
  },
  {
   "cell_type": "code",
   "execution_count": 14,
   "metadata": {},
   "outputs": [
    {
     "data": {
      "text/plain": [
       "torch.Size([32, 3, 2])"
      ]
     },
     "execution_count": 14,
     "metadata": {},
     "output_type": "execute_result"
    }
   ],
   "source": [
    "emb.shape"
   ]
  },
  {
   "cell_type": "code",
   "execution_count": 15,
   "metadata": {},
   "outputs": [
    {
     "name": "stdout",
     "output_type": "stream",
     "text": [
      "tensor(1)\n",
      "tensor([-0.2772,  0.2402])\n"
     ]
    }
   ],
   "source": [
    "# for example to find embedding of X[13,2] we can do C[X][13,2]\n",
    "\n",
    "print(X[13,2])\n",
    "print(C[X][13,2]) # also equal to C[1]"
   ]
  },
  {
   "cell_type": "code",
   "execution_count": 16,
   "metadata": {},
   "outputs": [
    {
     "data": {
      "text/plain": [
       "tensor([[-0.1026, -0.0626, -0.1026, -0.0626, -0.1026, -0.0626],\n",
       "        [-0.1026, -0.0626, -0.1026, -0.0626,  0.7579,  0.2272],\n",
       "        [-0.1026, -0.0626,  0.7579,  0.2272, -0.3854, -0.7914],\n",
       "        [ 0.7579,  0.2272, -0.3854, -0.7914, -0.3854, -0.7914],\n",
       "        [-0.3854, -0.7914, -0.3854, -0.7914, -0.2772,  0.2402],\n",
       "        [-0.1026, -0.0626, -0.1026, -0.0626, -0.1026, -0.0626],\n",
       "        [-0.1026, -0.0626, -0.1026, -0.0626,  0.0956, -0.5777],\n",
       "        [-0.1026, -0.0626,  0.0956, -0.5777,  0.3417, -0.2248],\n",
       "        [ 0.0956, -0.5777,  0.3417, -0.2248,  1.0625,  0.6183],\n",
       "        [ 0.3417, -0.2248,  1.0625,  0.6183, -0.2932, -0.9657],\n",
       "        [ 1.0625,  0.6183, -0.2932, -0.9657,  1.0625,  0.6183],\n",
       "        [-0.2932, -0.9657,  1.0625,  0.6183, -0.2772,  0.2402],\n",
       "        [-0.1026, -0.0626, -0.1026, -0.0626, -0.1026, -0.0626],\n",
       "        [-0.1026, -0.0626, -0.1026, -0.0626, -0.2772,  0.2402],\n",
       "        [-0.1026, -0.0626, -0.2772,  0.2402, -0.2932, -0.9657],\n",
       "        [-0.2772,  0.2402, -0.2932, -0.9657, -0.2772,  0.2402],\n",
       "        [-0.1026, -0.0626, -0.1026, -0.0626, -0.1026, -0.0626],\n",
       "        [-0.1026, -0.0626, -0.1026, -0.0626,  1.0625,  0.6183],\n",
       "        [-0.1026, -0.0626,  1.0625,  0.6183,  0.5607,  1.6958],\n",
       "        [ 1.0625,  0.6183,  0.5607,  1.6958, -0.2772,  0.2402],\n",
       "        [ 0.5607,  1.6958, -0.2772,  0.2402, -0.0158,  0.7443],\n",
       "        [-0.2772,  0.2402, -0.0158,  0.7443,  0.7579,  0.2272],\n",
       "        [-0.0158,  0.7443,  0.7579,  0.2272,  0.3417, -0.2248],\n",
       "        [ 0.7579,  0.2272,  0.3417, -0.2248,  0.3417, -0.2248],\n",
       "        [ 0.3417, -0.2248,  0.3417, -0.2248, -0.2772,  0.2402],\n",
       "        [-0.1026, -0.0626, -0.1026, -0.0626, -0.1026, -0.0626],\n",
       "        [-0.1026, -0.0626, -0.1026, -0.0626,  0.5607,  1.6958],\n",
       "        [-0.1026, -0.0626,  0.5607,  1.6958,  0.0956, -0.5777],\n",
       "        [ 0.5607,  1.6958,  0.0956, -0.5777,  0.4485,  0.4060],\n",
       "        [ 0.0956, -0.5777,  0.4485,  0.4060, -0.5634, -1.2035],\n",
       "        [ 0.4485,  0.4060, -0.5634, -1.2035,  1.0625,  0.6183],\n",
       "        [-0.5634, -1.2035,  1.0625,  0.6183, -0.2772,  0.2402]])"
      ]
     },
     "execution_count": 16,
     "metadata": {},
     "output_type": "execute_result"
    }
   ],
   "source": [
    "emb.view(-1,6) # change embeddings to a 2D tensor \n",
    "               # (does not create new memory)"
   ]
  },
  {
   "cell_type": "code",
   "execution_count": 17,
   "metadata": {},
   "outputs": [],
   "source": [
    "# initialize weights and biases for the hiddden layer\n",
    "\n",
    "W1 = torch.randn((6,100)) # randomly initialized weights \n",
    "                          # number of inputs is 6 and\n",
    "                          # number of neurons is say 100\n",
    "b1 = torch.randn(100) # randomly initialized biases"
   ]
  },
  {
   "cell_type": "code",
   "execution_count": 18,
   "metadata": {},
   "outputs": [
    {
     "data": {
      "text/plain": [
       "tensor([[-0.3128,  0.9024, -0.0250,  ...,  0.9386, -0.7528, -0.2012],\n",
       "        [-0.9803,  0.9859, -0.7680,  ...,  0.9412,  0.4270, -0.3157],\n",
       "        [ 0.7361,  0.7830,  0.8710,  ..., -0.6431, -0.8487,  0.6921],\n",
       "        ...,\n",
       "        [ 0.8873,  0.3520,  0.9457,  ..., -0.5562, -0.9885,  0.7781],\n",
       "        [-0.8609,  0.9977, -0.9938,  ...,  0.9840,  0.8924, -0.9713],\n",
       "        [-0.9847,  0.0769, -0.3785,  ...,  0.9745, -0.8416,  0.9384]])"
      ]
     },
     "execution_count": 18,
     "metadata": {},
     "output_type": "execute_result"
    }
   ],
   "source": [
    "# implement the first hidden layer of activations \n",
    "# tanh nonlinearity squashes the numbers between -1 and 1\n",
    "\n",
    "h = torch.tanh(emb.view(-1, 6) @ W1 + b1)\n",
    "h"
   ]
  },
  {
   "cell_type": "code",
   "execution_count": 19,
   "metadata": {},
   "outputs": [
    {
     "data": {
      "text/plain": [
       "torch.Size([32, 100])"
      ]
     },
     "execution_count": 19,
     "metadata": {},
     "output_type": "execute_result"
    }
   ],
   "source": [
    "h.shape"
   ]
  },
  {
   "cell_type": "code",
   "execution_count": 20,
   "metadata": {},
   "outputs": [],
   "source": [
    "# initialize weights and biases for the output layer\n",
    "\n",
    "W2 = torch.randn((100,27))\n",
    "b2 = torch.randn(27)"
   ]
  },
  {
   "cell_type": "code",
   "execution_count": 21,
   "metadata": {},
   "outputs": [
    {
     "data": {
      "text/plain": [
       "torch.Size([32, 27])"
      ]
     },
     "execution_count": 21,
     "metadata": {},
     "output_type": "execute_result"
    }
   ],
   "source": [
    "# calculate logits for the output layer\n",
    "\n",
    "logits = h @ W2 + b2\n",
    "logits.shape"
   ]
  },
  {
   "cell_type": "code",
   "execution_count": 22,
   "metadata": {},
   "outputs": [
    {
     "data": {
      "text/plain": [
       "torch.Size([32, 27])"
      ]
     },
     "execution_count": 22,
     "metadata": {},
     "output_type": "execute_result"
    }
   ],
   "source": [
    "# calculate probabilities and implement negative log likelihood loss\n",
    "\n",
    "counts = logits.exp()\n",
    "probs = counts / counts.sum(1, keepdims=True)\n",
    "probs.shape"
   ]
  },
  {
   "cell_type": "code",
   "execution_count": 23,
   "metadata": {},
   "outputs": [
    {
     "data": {
      "text/plain": [
       "tensor([2.6106e-06, 6.1228e-05, 2.8930e-01, 1.2281e-13, 2.0631e-06, 1.1889e-08,\n",
       "        2.1112e-12, 6.4134e-12, 8.7694e-11, 1.5629e-05, 3.0164e-10, 1.5541e-05,\n",
       "        1.2112e-09, 8.6949e-07, 2.8563e-07, 2.5645e-08, 4.5141e-07, 3.2678e-08,\n",
       "        6.6798e-12, 5.3517e-01, 1.3626e-10, 2.1596e-10, 8.7869e-10, 1.1423e-09,\n",
       "        1.6317e-04, 4.1816e-09, 3.0134e-09, 1.0615e-05, 1.3830e-07, 5.3563e-03,\n",
       "        7.3413e-13, 6.0124e-05])"
      ]
     },
     "execution_count": 23,
     "metadata": {},
     "output_type": "execute_result"
    }
   ],
   "source": [
    "# get probabilities for the labels Y\n",
    "\n",
    "probs[torch.arange(Y.shape[0]), Y]"
   ]
  },
  {
   "cell_type": "code",
   "execution_count": 24,
   "metadata": {},
   "outputs": [
    {
     "data": {
      "text/plain": [
       "tensor(16.6925)"
      ]
     },
     "execution_count": 24,
     "metadata": {},
     "output_type": "execute_result"
    }
   ],
   "source": [
    "# calculate negative log likelihood loss (we want to minimize this\n",
    "# loss by training the neural network) \n",
    "\n",
    "loss = -probs[torch.arange(Y.shape[0]), Y].log().mean()\n",
    "loss"
   ]
  },
  {
   "cell_type": "code",
   "execution_count": 25,
   "metadata": {},
   "outputs": [],
   "source": [
    "# ------------Summary of the neural network---------------"
   ]
  },
  {
   "cell_type": "code",
   "execution_count": 26,
   "metadata": {},
   "outputs": [
    {
     "data": {
      "text/plain": [
       "(torch.Size([32, 3]), torch.Size([32]))"
      ]
     },
     "execution_count": 26,
     "metadata": {},
     "output_type": "execute_result"
    }
   ],
   "source": [
    "X.shape, Y.shape # dataset"
   ]
  },
  {
   "cell_type": "code",
   "execution_count": 27,
   "metadata": {},
   "outputs": [],
   "source": [
    "g = torch.Generator().manual_seed(2147483647) # for reproducibility\n",
    "C = torch.randn((27, 2), generator=g)\n",
    "W1 = torch.randn((6, 100), generator=g)\n",
    "b1 = torch.randn(100, generator=g)\n",
    "W2 = torch.randn((100, 27), generator=g)\n",
    "b2 = torch.randn(27, generator=g)\n",
    "parameters = [C, W1, b1, W2, b2]"
   ]
  },
  {
   "cell_type": "code",
   "execution_count": 28,
   "metadata": {},
   "outputs": [
    {
     "data": {
      "text/plain": [
       "3481"
      ]
     },
     "execution_count": 28,
     "metadata": {},
     "output_type": "execute_result"
    }
   ],
   "source": [
    "sum(p.nelement() for p in parameters) # total number of parameters"
   ]
  },
  {
   "cell_type": "code",
   "execution_count": 29,
   "metadata": {},
   "outputs": [],
   "source": [
    "for p in parameters:\n",
    "    p.requires_grad = True"
   ]
  },
  {
   "cell_type": "code",
   "execution_count": 30,
   "metadata": {},
   "outputs": [
    {
     "name": "stdout",
     "output_type": "stream",
     "text": [
      "0.2561391294002533\n"
     ]
    }
   ],
   "source": [
    "# forward pass\n",
    "\n",
    "for _ in range(1000):\n",
    "    \n",
    "    # forward pass\n",
    "    emb = C[X] # (32, 3, 2)\n",
    "    h = torch.tanh(emb.view(-1, 6) @ W1 + b1) # (32, 100)\n",
    "    logits = h @ W2 + b2 # (32, 27)\n",
    "    loss = F.cross_entropy(logits, Y) # should use this, more efficient\n",
    "    #print(loss.item())\n",
    "    \n",
    "    # backward pass\n",
    "    for p in parameters:\n",
    "        p.grad = None\n",
    "    loss.backward()\n",
    "    \n",
    "    # update\n",
    "    for p in parameters:\n",
    "        p.data += -0.1 * p.grad\n",
    "\n",
    "print(loss.item())"
   ]
  },
  {
   "cell_type": "code",
   "execution_count": 31,
   "metadata": {},
   "outputs": [],
   "source": [
    "# Build training, validation and test sets from the entire data\n",
    "\n",
    "def build_dataset(words):\n",
    "    block_size = 3 # context length: how many characters do we take to predict the next one?\n",
    "\n",
    "    X, Y = [], [] # training and label sets\n",
    "\n",
    "    for w in words:\n",
    "        context = [0] * block_size\n",
    "        for ch in (w + '.'):\n",
    "            ix = stoi[ch]\n",
    "            X.append(context)\n",
    "            Y.append(ix)\n",
    "            context = context[1:] + [ix] \n",
    "\n",
    "    X = torch.tensor(X)\n",
    "    Y = torch.tensor(Y)\n",
    "    print(X.shape, Y.shape)\n",
    "    \n",
    "    return X, Y"
   ]
  },
  {
   "cell_type": "code",
   "execution_count": 32,
   "metadata": {},
   "outputs": [
    {
     "name": "stdout",
     "output_type": "stream",
     "text": [
      "torch.Size([182625, 3]) torch.Size([182625])\n",
      "torch.Size([22655, 3]) torch.Size([22655])\n",
      "torch.Size([22866, 3]) torch.Size([22866])\n"
     ]
    }
   ],
   "source": [
    "random.seed(42)\n",
    "random.shuffle(words)\n",
    "n1 = int(0.8*len(words))\n",
    "n2 = int(0.9*len(words))\n",
    "\n",
    "Xtr, Ytr = build_dataset(words[:n1])\n",
    "Xdev, Ydev = build_dataset(words[n1:n2])\n",
    "Xte, Yte = build_dataset(words[n2:])"
   ]
  },
  {
   "cell_type": "code",
   "execution_count": 33,
   "metadata": {},
   "outputs": [
    {
     "data": {
      "text/plain": [
       "32033"
      ]
     },
     "execution_count": 33,
     "metadata": {},
     "output_type": "execute_result"
    }
   ],
   "source": [
    "len(words)"
   ]
  },
  {
   "cell_type": "code",
   "execution_count": 34,
   "metadata": {},
   "outputs": [
    {
     "data": {
      "text/plain": [
       "25626"
      ]
     },
     "execution_count": 34,
     "metadata": {},
     "output_type": "execute_result"
    }
   ],
   "source": [
    "n1 # number of words in the training test"
   ]
  },
  {
   "cell_type": "code",
   "execution_count": 35,
   "metadata": {},
   "outputs": [
    {
     "data": {
      "text/plain": [
       "3203"
      ]
     },
     "execution_count": 35,
     "metadata": {},
     "output_type": "execute_result"
    }
   ],
   "source": [
    "n2 - n1 # number of words in the validation set"
   ]
  },
  {
   "cell_type": "code",
   "execution_count": 36,
   "metadata": {},
   "outputs": [
    {
     "data": {
      "text/plain": [
       "3204"
      ]
     },
     "execution_count": 36,
     "metadata": {},
     "output_type": "execute_result"
    }
   ],
   "source": [
    "len(words) - n2 # number of words in the test set"
   ]
  },
  {
   "cell_type": "code",
   "execution_count": 37,
   "metadata": {},
   "outputs": [],
   "source": [
    "# increase the embedding size and number of neurons in the hidden layer\n",
    "\n",
    "g = torch.Generator().manual_seed(2147483647) # for reproducibility\n",
    "C = torch.randn((27, 10), generator=g)\n",
    "W1 = torch.randn((30, 200), generator=g)\n",
    "b1 = torch.randn(200, generator=g)\n",
    "W2 = torch.randn((200, 27), generator=g)\n",
    "b2 = torch.randn(27, generator=g)\n",
    "parameters = [C, W1, b1, W2, b2]"
   ]
  },
  {
   "cell_type": "code",
   "execution_count": 38,
   "metadata": {},
   "outputs": [
    {
     "data": {
      "text/plain": [
       "11897"
      ]
     },
     "execution_count": 38,
     "metadata": {},
     "output_type": "execute_result"
    }
   ],
   "source": [
    "sum(p.nelement() for p in parameters) # number of parameters in total"
   ]
  },
  {
   "cell_type": "code",
   "execution_count": 39,
   "metadata": {},
   "outputs": [],
   "source": [
    "for p in parameters:\n",
    "    p.requires_grad = True"
   ]
  },
  {
   "cell_type": "code",
   "execution_count": 40,
   "metadata": {},
   "outputs": [],
   "source": [
    "lre = torch.linspace(-3, 0, 1000)\n",
    "lrs = 10**lre"
   ]
  },
  {
   "cell_type": "code",
   "execution_count": 41,
   "metadata": {},
   "outputs": [],
   "source": [
    "lri = []\n",
    "lossi = []\n",
    "stepi = []"
   ]
  },
  {
   "cell_type": "code",
   "execution_count": 42,
   "metadata": {},
   "outputs": [],
   "source": [
    "for i in range(200000):\n",
    "    \n",
    "    # construct minibatch of 32 samples\n",
    "    ix = torch.randint(0, Xtr.shape[0], (32,))\n",
    "\n",
    "    # forward pass\n",
    "    emb = C[Xtr[ix]] # (32, 3, 10)\n",
    "    h = torch.tanh(emb.view(-1, 30) @ W1 + b1) # (32, 200)\n",
    "    logits = h @ W2 + b2 # (32, 27)\n",
    "    loss = F.cross_entropy(logits, Ytr[ix])\n",
    "    #print(loss.item())\n",
    "\n",
    "    # backward pass\n",
    "    for p in parameters:\n",
    "        p.grad = None\n",
    "    loss.backward()\n",
    "\n",
    "    # update\n",
    "    #lr = lrs[i]\n",
    "    lr = 0.1 if i < 100000 else 0.01\n",
    "    for p in parameters:\n",
    "        p.data += -lr * p.grad\n",
    "\n",
    "    # track stats\n",
    "    #lri.append(lre[i])\n",
    "    stepi.append(i)\n",
    "    lossi.append(loss.log10().item())"
   ]
  },
  {
   "cell_type": "code",
   "execution_count": 43,
   "metadata": {},
   "outputs": [
    {
     "data": {
      "text/plain": [
       "[<matplotlib.lines.Line2D at 0x7fde6f69f110>]"
      ]
     },
     "execution_count": 43,
     "metadata": {},
     "output_type": "execute_result"
    },
    {
     "data": {
      "image/png": "[encoded data removed]",
      "text/plain": [
       "<Figure size 432x288 with 1 Axes>"
      ]
     },
     "metadata": {
      "needs_background": "light"
     },
     "output_type": "display_data"
    }
   ],
   "source": [
    "plt.plot(stepi, lossi) # the loss is dense because of minibatches"
   ]
  },
  {
   "cell_type": "code",
   "execution_count": 44,
   "metadata": {},
   "outputs": [
    {
     "data": {
      "text/plain": [
       "tensor(2.1299, grad_fn=<NllLossBackward>)"
      ]
     },
     "execution_count": 44,
     "metadata": {},
     "output_type": "execute_result"
    }
   ],
   "source": [
    "# calculate training loss\n",
    "\n",
    "emb = C[Xtr] # (32, 3, 2)\n",
    "h = torch.tanh(emb.view(-1, 30) @ W1 + b1) # (32, 100)\n",
    "logits = h @ W2 + b2 # (32, 27)\n",
    "loss = F.cross_entropy(logits, Ytr)\n",
    "loss"
   ]
  },
  {
   "cell_type": "code",
   "execution_count": 45,
   "metadata": {},
   "outputs": [
    {
     "data": {
      "text/plain": [
       "tensor(2.1633, grad_fn=<NllLossBackward>)"
      ]
     },
     "execution_count": 45,
     "metadata": {},
     "output_type": "execute_result"
    }
   ],
   "source": [
    "# calculate validation loss\n",
    "\n",
    "emb = C[Xdev] # (32, 3, 2)\n",
    "h = torch.tanh(emb.view(-1, 30) @ W1 + b1) # (32, 100)\n",
    "logits = h @ W2 + b2 # (32, 27)\n",
    "loss = F.cross_entropy(logits, Ydev)\n",
    "loss"
   ]
  },
  {
   "cell_type": "code",
   "execution_count": 46,
   "metadata": {},
   "outputs": [
    {
     "data": {
      "image/png": "[encoded data removed]",
      "text/plain": [
       "<Figure size 576x576 with 1 Axes>"
      ]
     },
     "metadata": {
      "needs_background": "light"
     },
     "output_type": "display_data"
    }
   ],
   "source": [
    "# visualize dimensions 0 and 1 of the embedding matrix C for all characters\n",
    "plt.figure(figsize=(8,8))\n",
    "plt.scatter(C[:,0].data, C[:,1].data, s=200)\n",
    "for i in range(C.shape[0]):\n",
    "    plt.text(C[i,0].item(), C[i,1].item(), itos[i], ha=\"center\", va=\"center\", color='white')\n",
    "plt.grid('minor')"
   ]
  },
  {
   "cell_type": "code",
   "execution_count": 47,
   "metadata": {},
   "outputs": [
    {
     "data": {
      "text/plain": [
       "torch.Size([1, 3, 10])"
      ]
     },
     "execution_count": 47,
     "metadata": {},
     "output_type": "execute_result"
    }
   ],
   "source": [
    "context = [0] * block_size\n",
    "C[torch.tensor([context])].shape"
   ]
  },
  {
   "cell_type": "code",
   "execution_count": 48,
   "metadata": {},
   "outputs": [
    {
     "name": "stdout",
     "output_type": "stream",
     "text": [
      "Context indices: [0, 0, 0]\n",
      "Output indices: [3]\n",
      "Context indices: [0, 0, 3]\n",
      "Output indices: [3, 1]\n",
      "Context indices: [0, 3, 1]\n",
      "Output indices: [3, 1, 18]\n",
      "Context indices: [3, 1, 18]\n",
      "Output indices: [3, 1, 18, 16]\n",
      "Context indices: [1, 18, 16]\n",
      "Output indices: [3, 1, 18, 16, 1]\n",
      "Context indices: [18, 16, 1]\n",
      "Output indices: [3, 1, 18, 16, 1, 22]\n",
      "Context indices: [16, 1, 22]\n",
      "Output indices: [3, 1, 18, 16, 1, 22, 5]\n",
      "Context indices: [1, 22, 5]\n",
      "Output indices: [3, 1, 18, 16, 1, 22, 5, 12]\n",
      "Context indices: [22, 5, 12]\n",
      "Output indices: [3, 1, 18, 16, 1, 22, 5, 12, 1]\n",
      "Context indices: [5, 12, 1]\n",
      "Output indices: [3, 1, 18, 16, 1, 22, 5, 12, 1, 0]\n",
      "\n",
      "\n",
      "Sampled name: carpavela.\n"
     ]
    }
   ],
   "source": [
    "# sample one name from the model\n",
    "\n",
    "g = torch.Generator().manual_seed(2147483647 + 10)\n",
    "\n",
    "for _ in range(1):\n",
    "    \n",
    "    out = []\n",
    "    context = [0] * block_size # initialize with all ...\n",
    "    while True:\n",
    "        print('Context indices:', context)\n",
    "        emb = C[torch.tensor([context])] # (1,block_size,d)\n",
    "        h = torch.tanh(emb.view(1, -1) @ W1 + b1)\n",
    "        logits = h @ W2 + b2\n",
    "        probs = F.softmax(logits, dim=1)\n",
    "        ix = torch.multinomial(probs, num_samples=1, generator=g).item()\n",
    "        context = context[1:] + [ix]\n",
    "        out.append(ix)\n",
    "        print('Output indices:', out)\n",
    "        if ix == 0:\n",
    "            break\n",
    "            \n",
    "    print('\\n')\n",
    "    print('Sampled name:', ''.join(itos[i] for i in out))"
   ]
  },
  {
   "cell_type": "code",
   "execution_count": 49,
   "metadata": {},
   "outputs": [
    {
     "name": "stdout",
     "output_type": "stream",
     "text": [
      "carpavela.\n",
      "jhari.\n",
      "kimleigtalynn.\n",
      "cassie.\n",
      "mahnen.\n",
      "delynn.\n",
      "jareei.\n",
      "nellara.\n",
      "chaiir.\n",
      "kaleigh.\n"
     ]
    }
   ],
   "source": [
    "# sample ten names from the model\n",
    "\n",
    "g = torch.Generator().manual_seed(2147483647 + 10)\n",
    "\n",
    "for _ in range(10):\n",
    "    \n",
    "    out = []\n",
    "    context = [0] * block_size # initialize with all ...\n",
    "    while True:\n",
    "        emb = C[torch.tensor([context])] # (1,block_size,d)\n",
    "        h = torch.tanh(emb.view(1, -1) @ W1 + b1)\n",
    "        logits = h @ W2 + b2\n",
    "        probs = F.softmax(logits, dim=1)\n",
    "        ix = torch.multinomial(probs, num_samples=1, generator=g).item()\n",
    "        context = context[1:] + [ix]\n",
    "        out.append(ix)\n",
    "        if ix == 0:\n",
    "            break\n",
    "\n",
    "    print(''.join(itos[i] for i in out))"
   ]
  },
  {
   "cell_type": "code",
   "execution_count": null,
   "metadata": {},
   "outputs": [],
   "source": []
  }
 ],
 "metadata": {
  "kernelspec": {
   "display_name": "Python 3",
   "language": "python",
   "name": "python3"
  },
  "language_info": {
   "codemirror_mode": {
    "name": "ipython",
    "version": 3
   },
   "file_extension": ".py",
   "mimetype": "text/x-python",
   "name": "python",
   "nbconvert_exporter": "python",
   "pygments_lexer": "ipython3",
   "version": "3.7.6"
  }
 },
 "nbformat": 4,
 "nbformat_minor": 4
}
