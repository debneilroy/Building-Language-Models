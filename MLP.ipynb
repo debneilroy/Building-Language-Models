{
 "cells": [
  {
   "cell_type": "markdown",
   "metadata": {},
   "source": [
    "## MLP model taken from https://www.jmlr.org/papers/volume3/bengio03a/bengio03a.pdf"
   ]
  },
  {
   "cell_type": "markdown",
   "metadata": {},
   "source": [
    "## PyTorch internals reference http://blog.ezyang.com/2019/05/pytorch-internals/"
   ]
  },
  {
   "cell_type": "code",
   "execution_count": 1,
   "metadata": {},
   "outputs": [],
   "source": [
    "import random\n",
    "import torch\n",
    "import torch.nn.functional as F\n",
    "import matplotlib.pyplot as plt\n",
    "%matplotlib inline"
   ]
  },
  {
   "cell_type": "code",
   "execution_count": 2,
   "metadata": {},
   "outputs": [
    {
     "name": "stdout",
     "output_type": "stream",
     "text": [
      "['emma', 'olivia', 'ava', 'isabella', 'sophia', 'charlotte', 'mia', 'amelia', 'harper', 'evelyn']\n"
     ]
    }
   ],
   "source": [
    "# read all words\n",
    "\n",
    "words = open('names.txt', 'r').read().splitlines()\n",
    "print(words[:10])"
   ]
  },
  {
   "cell_type": "code",
   "execution_count": 3,
   "metadata": {},
   "outputs": [
    {
     "name": "stdout",
     "output_type": "stream",
     "text": [
      "32033\n"
     ]
    }
   ],
   "source": [
    "print(len(words))"
   ]
  },
  {
   "cell_type": "code",
   "execution_count": 4,
   "metadata": {},
   "outputs": [
    {
     "name": "stdout",
     "output_type": "stream",
     "text": [
      "['a', 'b', 'c', 'd', 'e', 'f', 'g', 'h', 'i', 'j', 'k', 'l', 'm', 'n', 'o', 'p', 'q', 'r', 's', 't', 'u', 'v', 'w', 'x', 'y', 'z']\n",
      "{1: 'a', 2: 'b', 3: 'c', 4: 'd', 5: 'e', 6: 'f', 7: 'g', 8: 'h', 9: 'i', 10: 'j', 11: 'k', 12: 'l', 13: 'm', 14: 'n', 15: 'o', 16: 'p', 17: 'q', 18: 'r', 19: 's', 20: 't', 21: 'u', 22: 'v', 23: 'w', 24: 'x', 25: 'y', 26: 'z', 0: '.'}\n"
     ]
    }
   ],
   "source": [
    "# build the vocabulary of characters and mappings to/from integers\n",
    "\n",
    "chars = sorted(list(set(''.join(words))))\n",
    "print(chars)\n",
    "stoi = {s:i+1 for i,s in enumerate(chars)}\n",
    "stoi['.'] = 0\n",
    "itos = {i:s for s,i in stoi.items()}\n",
    "print(itos)"
   ]
  },
  {
   "cell_type": "code",
   "execution_count": 5,
   "metadata": {},
   "outputs": [
    {
     "name": "stdout",
     "output_type": "stream",
     "text": [
      "Word : emma\n",
      "Initial context : [0, 0, 0]\n",
      "Character :  e\n",
      "Index of character : 5\n",
      "X : [[0, 0, 0]]\n",
      "Y : [5]\n",
      "... ---> e\n",
      "New context : [0, 0, 5]\n",
      "----------------------------------------------------------------------------------------------------\n",
      "Character :  m\n",
      "Index of character : 13\n",
      "X : [[0, 0, 0], [0, 0, 5]]\n",
      "Y : [5, 13]\n",
      "..e ---> m\n",
      "New context : [0, 5, 13]\n",
      "----------------------------------------------------------------------------------------------------\n",
      "Character :  m\n",
      "Index of character : 13\n",
      "X : [[0, 0, 0], [0, 0, 5], [0, 5, 13]]\n",
      "Y : [5, 13, 13]\n",
      ".em ---> m\n",
      "New context : [5, 13, 13]\n",
      "----------------------------------------------------------------------------------------------------\n",
      "Character :  a\n",
      "Index of character : 1\n",
      "X : [[0, 0, 0], [0, 0, 5], [0, 5, 13], [5, 13, 13]]\n",
      "Y : [5, 13, 13, 1]\n",
      "emm ---> a\n",
      "New context : [13, 13, 1]\n",
      "----------------------------------------------------------------------------------------------------\n",
      "Character :  .\n",
      "Index of character : 0\n",
      "X : [[0, 0, 0], [0, 0, 5], [0, 5, 13], [5, 13, 13], [13, 13, 1]]\n",
      "Y : [5, 13, 13, 1, 0]\n",
      "mma ---> .\n",
      "New context : [13, 1, 0]\n",
      "----------------------------------------------------------------------------------------------------\n"
     ]
    }
   ],
   "source": [
    "# build the dataset (do it for the first word for easy visualization)\n",
    "\n",
    "block_size = 3 # context length: how many characters do we take to predict the next one?\n",
    "\n",
    "X, Y = [], [] # training and label sets\n",
    "\n",
    "for w in words[:1]:\n",
    "    print('Word :', w)\n",
    "    context = [0] * block_size\n",
    "    print('Initial context :', context)\n",
    "    for ch in (w + '.'):\n",
    "        print('Character : ', ch)\n",
    "        ix = stoi[ch]\n",
    "        print('Index of character :', ix)\n",
    "        X.append(context) \n",
    "        print('X :', X)\n",
    "        Y.append(ix)\n",
    "        print('Y :', Y)\n",
    "        print(''.join(itos[i] for i in context), '--->', itos[ix]) # previous three characters will be used to \n",
    "                                                                   # predict the next character, padding is \n",
    "                                                                   # done by '.'\n",
    "        context = context[1:] + [ix] # crop and append\n",
    "        print('New context :', context)\n",
    "        print('-'*100)\n",
    "\n",
    "X = torch.tensor(X)\n",
    "Y = torch.tensor(Y)"
   ]
  },
  {
   "cell_type": "code",
   "execution_count": 6,
   "metadata": {},
   "outputs": [
    {
     "data": {
      "text/plain": [
       "tensor([[ 0,  0,  0],\n",
       "        [ 0,  0,  5],\n",
       "        [ 0,  5, 13],\n",
       "        [ 5, 13, 13],\n",
       "        [13, 13,  1]])"
      ]
     },
     "execution_count": 6,
     "metadata": {},
     "output_type": "execute_result"
    }
   ],
   "source": [
    "X"
   ]
  },
  {
   "cell_type": "code",
   "execution_count": 7,
   "metadata": {},
   "outputs": [
    {
     "data": {
      "text/plain": [
       "tensor([ 5, 13, 13,  1,  0])"
      ]
     },
     "execution_count": 7,
     "metadata": {},
     "output_type": "execute_result"
    }
   ],
   "source": [
    "Y"
   ]
  },
  {
   "cell_type": "code",
   "execution_count": 8,
   "metadata": {},
   "outputs": [
    {
     "data": {
      "text/plain": [
       "(torch.Size([5, 3]), torch.Size([5]))"
      ]
     },
     "execution_count": 8,
     "metadata": {},
     "output_type": "execute_result"
    }
   ],
   "source": [
    "X.shape, Y.shape"
   ]
  },
  {
   "cell_type": "code",
   "execution_count": 9,
   "metadata": {},
   "outputs": [],
   "source": [
    "# build the dataset for the first five words\n",
    "\n",
    "block_size = 3 # context length: how many characters do we take to predict the next one?\n",
    "\n",
    "X, Y = [], [] # training and label sets\n",
    "\n",
    "for w in words[:5]:\n",
    "    context = [0] * block_size\n",
    "    for ch in (w + '.'):\n",
    "        ix = stoi[ch]\n",
    "        X.append(context)\n",
    "        Y.append(ix)\n",
    "        context = context[1:] + [ix] \n",
    "\n",
    "X = torch.tensor(X)\n",
    "Y = torch.tensor(Y)"
   ]
  },
  {
   "cell_type": "code",
   "execution_count": 10,
   "metadata": {},
   "outputs": [
    {
     "data": {
      "text/plain": [
       "(torch.Size([32, 3]), torch.Size([32]))"
      ]
     },
     "execution_count": 10,
     "metadata": {},
     "output_type": "execute_result"
    }
   ],
   "source": [
    "X.shape, Y.shape "
   ]
  },
  {
   "cell_type": "code",
   "execution_count": 11,
   "metadata": {},
   "outputs": [
    {
     "data": {
      "text/plain": [
       "tensor([-0.8082,  0.2362])"
      ]
     },
     "execution_count": 11,
     "metadata": {},
     "output_type": "execute_result"
    }
   ],
   "source": [
    "# implement the embedding lookup table\n",
    "\n",
    "C = torch.randn((27, 2)) # 27 characters embedded in a 2 dimensional space\n",
    "C[5] # embed a single row of C"
   ]
  },
  {
   "cell_type": "code",
   "execution_count": 12,
   "metadata": {},
   "outputs": [
    {
     "data": {
      "text/plain": [
       "tensor([-0.8082,  0.2362])"
      ]
     },
     "execution_count": 12,
     "metadata": {},
     "output_type": "execute_result"
    }
   ],
   "source": [
    "F.one_hot(torch.tensor(5), num_classes=27).float() @ C"
   ]
  },
  {
   "cell_type": "code",
   "execution_count": 13,
   "metadata": {},
   "outputs": [
    {
     "data": {
      "text/plain": [
       "tensor([[[-0.6011,  0.4207],\n",
       "         [-0.6011,  0.4207],\n",
       "         [-0.6011,  0.4207]],\n",
       "\n",
       "        [[-0.6011,  0.4207],\n",
       "         [-0.6011,  0.4207],\n",
       "         [-0.8082,  0.2362]],\n",
       "\n",
       "        [[-0.6011,  0.4207],\n",
       "         [-0.8082,  0.2362],\n",
       "         [ 0.2685,  2.1589]],\n",
       "\n",
       "        [[-0.8082,  0.2362],\n",
       "         [ 0.2685,  2.1589],\n",
       "         [ 0.2685,  2.1589]],\n",
       "\n",
       "        [[ 0.2685,  2.1589],\n",
       "         [ 0.2685,  2.1589],\n",
       "         [-0.0894,  0.2521]],\n",
       "\n",
       "        [[-0.6011,  0.4207],\n",
       "         [-0.6011,  0.4207],\n",
       "         [-0.6011,  0.4207]],\n",
       "\n",
       "        [[-0.6011,  0.4207],\n",
       "         [-0.6011,  0.4207],\n",
       "         [ 0.7075, -0.5021]],\n",
       "\n",
       "        [[-0.6011,  0.4207],\n",
       "         [ 0.7075, -0.5021],\n",
       "         [ 1.1054, -0.7344]],\n",
       "\n",
       "        [[ 0.7075, -0.5021],\n",
       "         [ 1.1054, -0.7344],\n",
       "         [-0.3307,  1.2246]],\n",
       "\n",
       "        [[ 1.1054, -0.7344],\n",
       "         [-0.3307,  1.2246],\n",
       "         [ 1.0669,  0.3624]],\n",
       "\n",
       "        [[-0.3307,  1.2246],\n",
       "         [ 1.0669,  0.3624],\n",
       "         [-0.3307,  1.2246]],\n",
       "\n",
       "        [[ 1.0669,  0.3624],\n",
       "         [-0.3307,  1.2246],\n",
       "         [-0.0894,  0.2521]],\n",
       "\n",
       "        [[-0.6011,  0.4207],\n",
       "         [-0.6011,  0.4207],\n",
       "         [-0.6011,  0.4207]],\n",
       "\n",
       "        [[-0.6011,  0.4207],\n",
       "         [-0.6011,  0.4207],\n",
       "         [-0.0894,  0.2521]],\n",
       "\n",
       "        [[-0.6011,  0.4207],\n",
       "         [-0.0894,  0.2521],\n",
       "         [ 1.0669,  0.3624]],\n",
       "\n",
       "        [[-0.0894,  0.2521],\n",
       "         [ 1.0669,  0.3624],\n",
       "         [-0.0894,  0.2521]],\n",
       "\n",
       "        [[-0.6011,  0.4207],\n",
       "         [-0.6011,  0.4207],\n",
       "         [-0.6011,  0.4207]],\n",
       "\n",
       "        [[-0.6011,  0.4207],\n",
       "         [-0.6011,  0.4207],\n",
       "         [-0.3307,  1.2246]],\n",
       "\n",
       "        [[-0.6011,  0.4207],\n",
       "         [-0.3307,  1.2246],\n",
       "         [ 1.0123, -1.5279]],\n",
       "\n",
       "        [[-0.3307,  1.2246],\n",
       "         [ 1.0123, -1.5279],\n",
       "         [-0.0894,  0.2521]],\n",
       "\n",
       "        [[ 1.0123, -1.5279],\n",
       "         [-0.0894,  0.2521],\n",
       "         [ 2.4634,  1.6587]],\n",
       "\n",
       "        [[-0.0894,  0.2521],\n",
       "         [ 2.4634,  1.6587],\n",
       "         [-0.8082,  0.2362]],\n",
       "\n",
       "        [[ 2.4634,  1.6587],\n",
       "         [-0.8082,  0.2362],\n",
       "         [ 1.1054, -0.7344]],\n",
       "\n",
       "        [[-0.8082,  0.2362],\n",
       "         [ 1.1054, -0.7344],\n",
       "         [ 1.1054, -0.7344]],\n",
       "\n",
       "        [[ 1.1054, -0.7344],\n",
       "         [ 1.1054, -0.7344],\n",
       "         [-0.0894,  0.2521]],\n",
       "\n",
       "        [[-0.6011,  0.4207],\n",
       "         [-0.6011,  0.4207],\n",
       "         [-0.6011,  0.4207]],\n",
       "\n",
       "        [[-0.6011,  0.4207],\n",
       "         [-0.6011,  0.4207],\n",
       "         [ 1.0123, -1.5279]],\n",
       "\n",
       "        [[-0.6011,  0.4207],\n",
       "         [ 1.0123, -1.5279],\n",
       "         [ 0.7075, -0.5021]],\n",
       "\n",
       "        [[ 1.0123, -1.5279],\n",
       "         [ 0.7075, -0.5021],\n",
       "         [ 1.0052, -0.4134]],\n",
       "\n",
       "        [[ 0.7075, -0.5021],\n",
       "         [ 1.0052, -0.4134],\n",
       "         [-0.5846, -0.2536]],\n",
       "\n",
       "        [[ 1.0052, -0.4134],\n",
       "         [-0.5846, -0.2536],\n",
       "         [-0.3307,  1.2246]],\n",
       "\n",
       "        [[-0.5846, -0.2536],\n",
       "         [-0.3307,  1.2246],\n",
       "         [-0.0894,  0.2521]]])"
      ]
     },
     "execution_count": 13,
     "metadata": {},
     "output_type": "execute_result"
    }
   ],
   "source": [
    "# use the lookup table C to get embeddings for X\n",
    "\n",
    "emb = C[X]\n",
    "emb"
   ]
  },
  {
   "cell_type": "code",
   "execution_count": 14,
   "metadata": {},
   "outputs": [
    {
     "data": {
      "text/plain": [
       "torch.Size([32, 3, 2])"
      ]
     },
     "execution_count": 14,
     "metadata": {},
     "output_type": "execute_result"
    }
   ],
   "source": [
    "emb.shape"
   ]
  },
  {
   "cell_type": "code",
   "execution_count": 15,
   "metadata": {},
   "outputs": [
    {
     "name": "stdout",
     "output_type": "stream",
     "text": [
      "tensor(1)\n",
      "tensor([-0.0894,  0.2521])\n"
     ]
    }
   ],
   "source": [
    "# for example to find embedding of X[13,2] we can do C[X][13,2]\n",
    "\n",
    "print(X[13,2])\n",
    "print(C[X][13,2]) # also equal to C[1]"
   ]
  },
  {
   "cell_type": "code",
   "execution_count": 16,
   "metadata": {},
   "outputs": [
    {
     "data": {
      "text/plain": [
       "tensor([[-0.6011,  0.4207, -0.6011,  0.4207, -0.6011,  0.4207],\n",
       "        [-0.6011,  0.4207, -0.6011,  0.4207, -0.8082,  0.2362],\n",
       "        [-0.6011,  0.4207, -0.8082,  0.2362,  0.2685,  2.1589],\n",
       "        [-0.8082,  0.2362,  0.2685,  2.1589,  0.2685,  2.1589],\n",
       "        [ 0.2685,  2.1589,  0.2685,  2.1589, -0.0894,  0.2521],\n",
       "        [-0.6011,  0.4207, -0.6011,  0.4207, -0.6011,  0.4207],\n",
       "        [-0.6011,  0.4207, -0.6011,  0.4207,  0.7075, -0.5021],\n",
       "        [-0.6011,  0.4207,  0.7075, -0.5021,  1.1054, -0.7344],\n",
       "        [ 0.7075, -0.5021,  1.1054, -0.7344, -0.3307,  1.2246],\n",
       "        [ 1.1054, -0.7344, -0.3307,  1.2246,  1.0669,  0.3624],\n",
       "        [-0.3307,  1.2246,  1.0669,  0.3624, -0.3307,  1.2246],\n",
       "        [ 1.0669,  0.3624, -0.3307,  1.2246, -0.0894,  0.2521],\n",
       "        [-0.6011,  0.4207, -0.6011,  0.4207, -0.6011,  0.4207],\n",
       "        [-0.6011,  0.4207, -0.6011,  0.4207, -0.0894,  0.2521],\n",
       "        [-0.6011,  0.4207, -0.0894,  0.2521,  1.0669,  0.3624],\n",
       "        [-0.0894,  0.2521,  1.0669,  0.3624, -0.0894,  0.2521],\n",
       "        [-0.6011,  0.4207, -0.6011,  0.4207, -0.6011,  0.4207],\n",
       "        [-0.6011,  0.4207, -0.6011,  0.4207, -0.3307,  1.2246],\n",
       "        [-0.6011,  0.4207, -0.3307,  1.2246,  1.0123, -1.5279],\n",
       "        [-0.3307,  1.2246,  1.0123, -1.5279, -0.0894,  0.2521],\n",
       "        [ 1.0123, -1.5279, -0.0894,  0.2521,  2.4634,  1.6587],\n",
       "        [-0.0894,  0.2521,  2.4634,  1.6587, -0.8082,  0.2362],\n",
       "        [ 2.4634,  1.6587, -0.8082,  0.2362,  1.1054, -0.7344],\n",
       "        [-0.8082,  0.2362,  1.1054, -0.7344,  1.1054, -0.7344],\n",
       "        [ 1.1054, -0.7344,  1.1054, -0.7344, -0.0894,  0.2521],\n",
       "        [-0.6011,  0.4207, -0.6011,  0.4207, -0.6011,  0.4207],\n",
       "        [-0.6011,  0.4207, -0.6011,  0.4207,  1.0123, -1.5279],\n",
       "        [-0.6011,  0.4207,  1.0123, -1.5279,  0.7075, -0.5021],\n",
       "        [ 1.0123, -1.5279,  0.7075, -0.5021,  1.0052, -0.4134],\n",
       "        [ 0.7075, -0.5021,  1.0052, -0.4134, -0.5846, -0.2536],\n",
       "        [ 1.0052, -0.4134, -0.5846, -0.2536, -0.3307,  1.2246],\n",
       "        [-0.5846, -0.2536, -0.3307,  1.2246, -0.0894,  0.2521]])"
      ]
     },
     "execution_count": 16,
     "metadata": {},
     "output_type": "execute_result"
    }
   ],
   "source": [
    "emb.view(-1,6) # change embeddings to a 2D tensor \n",
    "               # (does not create new memory)"
   ]
  },
  {
   "cell_type": "code",
   "execution_count": 17,
   "metadata": {},
   "outputs": [],
   "source": [
    "# initialize weights and biases for the hiddden layer\n",
    "\n",
    "W1 = torch.randn((6,100)) # randomly initialized weights \n",
    "                          # number of inputs is 6 and\n",
    "                          # number of neurons is say 100\n",
    "b1 = torch.randn(100) # randomly initialized biases"
   ]
  },
  {
   "cell_type": "code",
   "execution_count": 18,
   "metadata": {},
   "outputs": [
    {
     "data": {
      "text/plain": [
       "tensor([[-0.8098, -0.4951,  0.6185,  ..., -0.8257,  0.4611,  0.8650],\n",
       "        [-0.7743, -0.3123,  0.6011,  ..., -0.8702,  0.4233,  0.8278],\n",
       "        [-0.9932, -0.8750,  0.4769,  ..., -0.7163,  0.5452,  0.9986],\n",
       "        ...,\n",
       "        [-0.9698,  0.9960, -0.9781,  ..., -0.9987, -0.3191,  0.7868],\n",
       "        [-0.9998,  0.9954,  0.2704,  ..., -0.9998, -0.9139,  0.9994],\n",
       "        [ 0.8643, -0.7155,  0.9893,  ..., -0.9945, -0.7578, -0.3303]])"
      ]
     },
     "execution_count": 18,
     "metadata": {},
     "output_type": "execute_result"
    }
   ],
   "source": [
    "# implement the first hidden layer of activations \n",
    "# tanh nonlinearity squashes the numbers between -1 and 1\n",
    "\n",
    "h = torch.tanh(emb.view(-1, 6) @ W1 + b1)\n",
    "h"
   ]
  },
  {
   "cell_type": "code",
   "execution_count": 19,
   "metadata": {},
   "outputs": [
    {
     "data": {
      "text/plain": [
       "torch.Size([32, 100])"
      ]
     },
     "execution_count": 19,
     "metadata": {},
     "output_type": "execute_result"
    }
   ],
   "source": [
    "h.shape"
   ]
  },
  {
   "cell_type": "code",
   "execution_count": 20,
   "metadata": {},
   "outputs": [],
   "source": [
    "# initialize weights and biases for the output layer\n",
    "\n",
    "W2 = torch.randn((100,27))\n",
    "b2 = torch.randn(27)"
   ]
  },
  {
   "cell_type": "code",
   "execution_count": 21,
   "metadata": {},
   "outputs": [
    {
     "data": {
      "text/plain": [
       "torch.Size([32, 27])"
      ]
     },
     "execution_count": 21,
     "metadata": {},
     "output_type": "execute_result"
    }
   ],
   "source": [
    "# calculate logits for the output layer\n",
    "\n",
    "logits = h @ W2 + b2\n",
    "logits.shape"
   ]
  },
  {
   "cell_type": "code",
   "execution_count": 22,
   "metadata": {},
   "outputs": [
    {
     "data": {
      "text/plain": [
       "torch.Size([32, 27])"
      ]
     },
     "execution_count": 22,
     "metadata": {},
     "output_type": "execute_result"
    }
   ],
   "source": [
    "# calculate probabilities and implement negative log likelihood loss\n",
    "\n",
    "counts = logits.exp()\n",
    "probs = counts / counts.sum(1, keepdims=True)\n",
    "probs.shape"
   ]
  },
  {
   "cell_type": "code",
   "execution_count": 23,
   "metadata": {},
   "outputs": [
    {
     "data": {
      "text/plain": [
       "tensor([7.1374e-09, 8.7466e-09, 4.0027e-10, 7.7420e-04, 5.6128e-06, 2.7402e-09,\n",
       "        7.2938e-07, 2.2827e-08, 3.5035e-01, 4.7783e-03, 9.9833e-01, 1.2345e-09,\n",
       "        1.0687e-12, 7.1909e-12, 8.8042e-08, 2.3273e-05, 6.3567e-15, 2.3009e-05,\n",
       "        9.4208e-12, 6.0705e-09, 7.1674e-05, 5.8649e-08, 4.7915e-11, 3.4125e-08,\n",
       "        1.9378e-08, 2.0847e-04, 1.1465e-06, 2.9717e-09, 7.6963e-05, 2.0515e-07,\n",
       "        1.0231e-03, 5.6432e-06])"
      ]
     },
     "execution_count": 23,
     "metadata": {},
     "output_type": "execute_result"
    }
   ],
   "source": [
    "# get probabilities for the labels Y\n",
    "\n",
    "probs[torch.arange(Y.shape[0]), Y]"
   ]
  },
  {
   "cell_type": "code",
   "execution_count": 24,
   "metadata": {},
   "outputs": [
    {
     "data": {
      "text/plain": [
       "tensor(15.4658)"
      ]
     },
     "execution_count": 24,
     "metadata": {},
     "output_type": "execute_result"
    }
   ],
   "source": [
    "# calculate negative log likelihood loss (we want to minimize this\n",
    "# loss by training the neural network) \n",
    "\n",
    "loss = -probs[torch.arange(Y.shape[0]), Y].log().mean()\n",
    "loss"
   ]
  },
  {
   "cell_type": "code",
   "execution_count": 55,
   "metadata": {},
   "outputs": [],
   "source": [
    "# ------------Summary of the neural network---------------"
   ]
  },
  {
   "cell_type": "code",
   "execution_count": 26,
   "metadata": {},
   "outputs": [
    {
     "data": {
      "text/plain": [
       "(torch.Size([32, 3]), torch.Size([32]))"
      ]
     },
     "execution_count": 26,
     "metadata": {},
     "output_type": "execute_result"
    }
   ],
   "source": [
    "X.shape, Y.shape # dataset"
   ]
  },
  {
   "cell_type": "code",
   "execution_count": 27,
   "metadata": {},
   "outputs": [],
   "source": [
    "g = torch.Generator().manual_seed(2147483647) # for reproducibility\n",
    "C = torch.randn((27, 2), generator=g)\n",
    "W1 = torch.randn((6, 100), generator=g)\n",
    "b1 = torch.randn(100, generator=g)\n",
    "W2 = torch.randn((100, 27), generator=g)\n",
    "b2 = torch.randn(27, generator=g)\n",
    "parameters = [C, W1, b1, W2, b2]"
   ]
  },
  {
   "cell_type": "code",
   "execution_count": 28,
   "metadata": {},
   "outputs": [
    {
     "data": {
      "text/plain": [
       "3481"
      ]
     },
     "execution_count": 28,
     "metadata": {},
     "output_type": "execute_result"
    }
   ],
   "source": [
    "sum(p.nelement() for p in parameters) # total number of parameters"
   ]
  },
  {
   "cell_type": "code",
   "execution_count": 29,
   "metadata": {},
   "outputs": [],
   "source": [
    "for p in parameters:\n",
    "    p.requires_grad = True"
   ]
  },
  {
   "cell_type": "code",
   "execution_count": 30,
   "metadata": {},
   "outputs": [
    {
     "name": "stdout",
     "output_type": "stream",
     "text": [
      "0.2561391294002533\n"
     ]
    }
   ],
   "source": [
    "# forward pass\n",
    "\n",
    "for _ in range(1000):\n",
    "    \n",
    "    # forward pass\n",
    "    emb = C[X] # (32, 3, 2)\n",
    "    h = torch.tanh(emb.view(-1, 6) @ W1 + b1) # (32, 100)\n",
    "    logits = h @ W2 + b2 # (32, 27)\n",
    "    loss = F.cross_entropy(logits, Y) # should use this, more efficient\n",
    "    #print(loss.item())\n",
    "    \n",
    "    # backward pass\n",
    "    for p in parameters:\n",
    "        p.grad = None\n",
    "    loss.backward()\n",
    "    \n",
    "    # update\n",
    "    for p in parameters:\n",
    "        p.data += -0.1 * p.grad\n",
    "\n",
    "print(loss.item())"
   ]
  },
  {
   "cell_type": "code",
   "execution_count": 40,
   "metadata": {},
   "outputs": [],
   "source": [
    "# Build training, validation and test sets from the entire data\n",
    "\n",
    "def build_dataset(words):\n",
    "    block_size = 3 # context length: how many characters do we take to predict the next one?\n",
    "\n",
    "    X, Y = [], [] # training and label sets\n",
    "\n",
    "    for w in words:\n",
    "        context = [0] * block_size\n",
    "        for ch in (w + '.'):\n",
    "            ix = stoi[ch]\n",
    "            X.append(context)\n",
    "            Y.append(ix)\n",
    "            context = context[1:] + [ix] \n",
    "\n",
    "    X = torch.tensor(X)\n",
    "    Y = torch.tensor(Y)\n",
    "    print(X.shape, Y.shape)\n",
    "    \n",
    "    return X, Y"
   ]
  },
  {
   "cell_type": "code",
   "execution_count": 42,
   "metadata": {},
   "outputs": [
    {
     "name": "stdout",
     "output_type": "stream",
     "text": [
      "torch.Size([182441, 3]) torch.Size([182441])\n",
      "torch.Size([22902, 3]) torch.Size([22902])\n",
      "torch.Size([22803, 3]) torch.Size([22803])\n"
     ]
    }
   ],
   "source": [
    "random.seed(42)\n",
    "random.shuffle(words)\n",
    "n1 = int(0.8*len(words))\n",
    "n2 = int(0.9*len(words))\n",
    "\n",
    "Xtr, Ytr = build_dataset(words[:n1])\n",
    "Xdev, Ydev = build_dataset(words[n1:n2])\n",
    "Xte, Yte = build_dataset(words[n2:])"
   ]
  },
  {
   "cell_type": "code",
   "execution_count": 43,
   "metadata": {},
   "outputs": [
    {
     "data": {
      "text/plain": [
       "32033"
      ]
     },
     "execution_count": 43,
     "metadata": {},
     "output_type": "execute_result"
    }
   ],
   "source": [
    "len(words)"
   ]
  },
  {
   "cell_type": "code",
   "execution_count": 44,
   "metadata": {},
   "outputs": [
    {
     "data": {
      "text/plain": [
       "25626"
      ]
     },
     "execution_count": 44,
     "metadata": {},
     "output_type": "execute_result"
    }
   ],
   "source": [
    "n1 # number of words in the training test"
   ]
  },
  {
   "cell_type": "code",
   "execution_count": 45,
   "metadata": {},
   "outputs": [
    {
     "data": {
      "text/plain": [
       "3203"
      ]
     },
     "execution_count": 45,
     "metadata": {},
     "output_type": "execute_result"
    }
   ],
   "source": [
    "n2 - n1 # number of words in the validation set"
   ]
  },
  {
   "cell_type": "code",
   "execution_count": 46,
   "metadata": {},
   "outputs": [
    {
     "data": {
      "text/plain": [
       "3204"
      ]
     },
     "execution_count": 46,
     "metadata": {},
     "output_type": "execute_result"
    }
   ],
   "source": [
    "len(words) - n2 # number of words in the test set"
   ]
  },
  {
   "cell_type": "code",
   "execution_count": 47,
   "metadata": {},
   "outputs": [],
   "source": [
    "# increase the embedding size and number of neurons in the hidden layer\n",
    "\n",
    "g = torch.Generator().manual_seed(2147483647) # for reproducibility\n",
    "C = torch.randn((27, 10), generator=g)\n",
    "W1 = torch.randn((30, 200), generator=g)\n",
    "b1 = torch.randn(200, generator=g)\n",
    "W2 = torch.randn((200, 27), generator=g)\n",
    "b2 = torch.randn(27, generator=g)\n",
    "parameters = [C, W1, b1, W2, b2]"
   ]
  },
  {
   "cell_type": "code",
   "execution_count": 48,
   "metadata": {},
   "outputs": [
    {
     "data": {
      "text/plain": [
       "11897"
      ]
     },
     "execution_count": 48,
     "metadata": {},
     "output_type": "execute_result"
    }
   ],
   "source": [
    "sum(p.nelement() for p in parameters) # number of parameters in total"
   ]
  },
  {
   "cell_type": "code",
   "execution_count": 49,
   "metadata": {},
   "outputs": [],
   "source": [
    "for p in parameters:\n",
    "    p.requires_grad = True"
   ]
  },
  {
   "cell_type": "code",
   "execution_count": 50,
   "metadata": {},
   "outputs": [],
   "source": [
    "lre = torch.linspace(-3, 0, 1000)\n",
    "lrs = 10**lre"
   ]
  },
  {
   "cell_type": "code",
   "execution_count": 52,
   "metadata": {},
   "outputs": [],
   "source": [
    "lri = []\n",
    "lossi = []\n",
    "stepi = []"
   ]
  },
  {
   "cell_type": "code",
   "execution_count": 56,
   "metadata": {},
   "outputs": [],
   "source": [
    "for i in range(200000):\n",
    "    \n",
    "    # construct minibatch of 32 samples\n",
    "    ix = torch.randint(0, Xtr.shape[0], (32,))\n",
    "\n",
    "    # forward pass\n",
    "    emb = C[Xtr[ix]] # (32, 3, 10)\n",
    "    h = torch.tanh(emb.view(-1, 30) @ W1 + b1) # (32, 200)\n",
    "    logits = h @ W2 + b2 # (32, 27)\n",
    "    loss = F.cross_entropy(logits, Ytr[ix])\n",
    "    #print(loss.item())\n",
    "\n",
    "    # backward pass\n",
    "    for p in parameters:\n",
    "        p.grad = None\n",
    "    loss.backward()\n",
    "\n",
    "    # update\n",
    "    #lr = lrs[i]\n",
    "    lr = 0.1 if i < 100000 else 0.01\n",
    "    for p in parameters:\n",
    "        p.data += -lr * p.grad\n",
    "\n",
    "    # track stats\n",
    "    #lri.append(lre[i])\n",
    "    stepi.append(i)\n",
    "    lossi.append(loss.log10().item())"
   ]
  },
  {
   "cell_type": "code",
   "execution_count": 58,
   "metadata": {},
   "outputs": [
    {
     "data": {
      "text/plain": [
       "[<matplotlib.lines.Line2D at 0x7f9963ee8090>]"
      ]
     },
     "execution_count": 58,
     "metadata": {},
     "output_type": "execute_result"
    },
    {
     "data": {
      "image/png": "[encoded data removed]",
      "text/plain": [
       "<Figure size 432x288 with 1 Axes>"
      ]
     },
     "metadata": {
      "needs_background": "light"
     },
     "output_type": "display_data"
    }
   ],
   "source": [
    "plt.plot(stepi, lossi) # the loss is dense because of minibatches"
   ]
  },
  {
   "cell_type": "code",
   "execution_count": 59,
   "metadata": {},
   "outputs": [
    {
     "data": {
      "text/plain": [
       "tensor(2.0784, grad_fn=<NllLossBackward>)"
      ]
     },
     "execution_count": 59,
     "metadata": {},
     "output_type": "execute_result"
    }
   ],
   "source": [
    "# calculate training loss\n",
    "\n",
    "emb = C[Xtr] # (32, 3, 2)\n",
    "h = torch.tanh(emb.view(-1, 30) @ W1 + b1) # (32, 100)\n",
    "logits = h @ W2 + b2 # (32, 27)\n",
    "loss = F.cross_entropy(logits, Ytr)\n",
    "loss"
   ]
  },
  {
   "cell_type": "code",
   "execution_count": 60,
   "metadata": {},
   "outputs": [
    {
     "data": {
      "text/plain": [
       "tensor(2.1443, grad_fn=<NllLossBackward>)"
      ]
     },
     "execution_count": 60,
     "metadata": {},
     "output_type": "execute_result"
    }
   ],
   "source": [
    "# calculate validation loss\n",
    "\n",
    "emb = C[Xdev] # (32, 3, 2)\n",
    "h = torch.tanh(emb.view(-1, 30) @ W1 + b1) # (32, 100)\n",
    "logits = h @ W2 + b2 # (32, 27)\n",
    "loss = F.cross_entropy(logits, Ydev)\n",
    "loss"
   ]
  },
  {
   "cell_type": "code",
   "execution_count": 61,
   "metadata": {},
   "outputs": [
    {
     "data": {
      "image/png": "[encoded data removed]",
      "text/plain": [
       "<Figure size 576x576 with 1 Axes>"
      ]
     },
     "metadata": {
      "needs_background": "light"
     },
     "output_type": "display_data"
    }
   ],
   "source": [
    "# visualize dimensions 0 and 1 of the embedding matrix C for all characters\n",
    "plt.figure(figsize=(8,8))\n",
    "plt.scatter(C[:,0].data, C[:,1].data, s=200)\n",
    "for i in range(C.shape[0]):\n",
    "    plt.text(C[i,0].item(), C[i,1].item(), itos[i], ha=\"center\", va=\"center\", color='white')\n",
    "plt.grid('minor')"
   ]
  },
  {
   "cell_type": "code",
   "execution_count": 62,
   "metadata": {},
   "outputs": [
    {
     "data": {
      "text/plain": [
       "torch.Size([1, 3, 10])"
      ]
     },
     "execution_count": 62,
     "metadata": {},
     "output_type": "execute_result"
    }
   ],
   "source": [
    "context = [0] * block_size\n",
    "C[torch.tensor([context])].shape"
   ]
  },
  {
   "cell_type": "code",
   "execution_count": 76,
   "metadata": {},
   "outputs": [
    {
     "name": "stdout",
     "output_type": "stream",
     "text": [
      "Context indices: [0, 0, 0]\n",
      "Output indices: [3]\n",
      "Context indices: [0, 0, 3]\n",
      "Output indices: [3, 1]\n",
      "Context indices: [0, 3, 1]\n",
      "Output indices: [3, 1, 18]\n",
      "Context indices: [3, 1, 18]\n",
      "Output indices: [3, 1, 18, 13]\n",
      "Context indices: [1, 18, 13]\n",
      "Output indices: [3, 1, 18, 13, 1]\n",
      "Context indices: [18, 13, 1]\n",
      "Output indices: [3, 1, 18, 13, 1, 8]\n",
      "Context indices: [13, 1, 8]\n",
      "Output indices: [3, 1, 18, 13, 1, 8, 26]\n",
      "Context indices: [1, 8, 26]\n",
      "Output indices: [3, 1, 18, 13, 1, 8, 26, 1]\n",
      "Context indices: [8, 26, 1]\n",
      "Output indices: [3, 1, 18, 13, 1, 8, 26, 1, 0]\n",
      "\n",
      "\n",
      "Sampled name: carmahza.\n"
     ]
    }
   ],
   "source": [
    "# sample one name from the model\n",
    "\n",
    "g = torch.Generator().manual_seed(2147483647 + 10)\n",
    "\n",
    "for _ in range(1):\n",
    "    \n",
    "    out = []\n",
    "    context = [0] * block_size # initialize with all ...\n",
    "    while True:\n",
    "        print('Context indices:', context)\n",
    "        emb = C[torch.tensor([context])] # (1,block_size,d)\n",
    "        h = torch.tanh(emb.view(1, -1) @ W1 + b1)\n",
    "        logits = h @ W2 + b2\n",
    "        probs = F.softmax(logits, dim=1)\n",
    "        ix = torch.multinomial(probs, num_samples=1, generator=g).item()\n",
    "        context = context[1:] + [ix]\n",
    "        out.append(ix)\n",
    "        print('Output indices:', out)\n",
    "        if ix == 0:\n",
    "            break\n",
    "            \n",
    "    print('\\n')\n",
    "    print('Sampled name:', ''.join(itos[i] for i in out))"
   ]
  },
  {
   "cell_type": "code",
   "execution_count": 80,
   "metadata": {},
   "outputs": [
    {
     "name": "stdout",
     "output_type": "stream",
     "text": [
      "carmahza.\n",
      "jahmer.\n",
      "kimri.\n",
      "rehty.\n",
      "halayane.\n",
      "rahnee.\n",
      "delynn.\n",
      "jareeius.\n",
      "kasia.\n",
      "chaiiv.\n"
     ]
    }
   ],
   "source": [
    "# sample ten names from the model\n",
    "\n",
    "g = torch.Generator().manual_seed(2147483647 + 10)\n",
    "\n",
    "for _ in range(10):\n",
    "    \n",
    "    out = []\n",
    "    context = [0] * block_size # initialize with all ...\n",
    "    while True:\n",
    "        emb = C[torch.tensor([context])] # (1,block_size,d)\n",
    "        h = torch.tanh(emb.view(1, -1) @ W1 + b1)\n",
    "        logits = h @ W2 + b2\n",
    "        probs = F.softmax(logits, dim=1)\n",
    "        ix = torch.multinomial(probs, num_samples=1, generator=g).item()\n",
    "        context = context[1:] + [ix]\n",
    "        out.append(ix)\n",
    "        if ix == 0:\n",
    "            break\n",
    "\n",
    "    print(''.join(itos[i] for i in out))"
   ]
  },
  {
   "cell_type": "code",
   "execution_count": null,
   "metadata": {},
   "outputs": [],
   "source": []
  }
 ],
 "metadata": {
  "kernelspec": {
   "display_name": "Python 3",
   "language": "python",
   "name": "python3"
  },
  "language_info": {
   "codemirror_mode": {
    "name": "ipython",
    "version": 3
   },
   "file_extension": ".py",
   "mimetype": "text/x-python",
   "name": "python",
   "nbconvert_exporter": "python",
   "pygments_lexer": "ipython3",
   "version": "3.7.6"
  }
 },
 "nbformat": 4,
 "nbformat_minor": 4
}
